{
 "cells": [
  {
   "cell_type": "code",
   "execution_count": 3,
   "metadata": {
    "collapsed": true
   },
   "outputs": [],
   "source": [
    "import numpy as np"
   ]
  },
  {
   "cell_type": "code",
   "execution_count": 14,
   "metadata": {
    "collapsed": false
   },
   "outputs": [
    {
     "name": "stdout",
     "output_type": "stream",
     "text": [
      "size of beatframes (90,)\n",
      "for bpm 120.0, create a beat at sample number 22016\n",
      "for bpm 240.0, create a beat at sample number 33792\n",
      "for bpm 240.0, create a beat at sample number 45056\n"
     ]
    }
   ],
   "source": [
    "# construct beats from bpm vector \n",
    "\n",
    "total_num_frames = 90 # just over 1 second of frames\n",
    "beatframes = np.ones(total_num_frames//2) \n",
    "\n",
    "# create bpm vector: \n",
    "# 120 bpm for 0.5 seconds and 240 bpm for 0.5 seconds\n",
    "bpm_st = 120\n",
    "bpm_end = 240\n",
    "frames_in_sec = 86.13\n",
    "beatframes = beatframes*bpm_st\n",
    "beatframes = np.insert(beatframes,total_num_frames//2,np.ones(total_num_frames//2)*bpm_end)\n",
    "\n",
    "print 'size of beatframes', beatframes.shape\n",
    "\n",
    "beatsinframes = beatframes/(60.0*frames_in_sec)\n",
    "beat = 0 \n",
    "\n",
    "for i in range(len(beatsinframes)):\n",
    "    beat += beatsinframes[i] # accumulate beatframe until reaching 1\n",
    "    if beat >= 1.0:\n",
    "        print 'for bpm %r, create a beat at sample number %r' %(beatframes[i],hop_length*i)\n",
    "        beat = 0\n",
    "    \n"
   ]
  },
  {
   "cell_type": "code",
   "execution_count": 15,
   "metadata": {
    "collapsed": true
   },
   "outputs": [],
   "source": [
    "def constructbeats(tempovect):\n",
    "    hop_length = 512.0 \n",
    "    sr = 22050.0\n",
    "    \n",
    "    total_num_frames = len(tempovect) # just over 1 second of frames\n",
    "\n",
    "    frames_in_sec = sr/hop_length\n",
    "    tempovect = tempovect*bpm_st\n",
    "    print 'size of beatframes', beatframes.shape\n",
    "\n",
    "    tempovectinframes = beatframes/(60.0*frames_in_sec)\n",
    "    beat = 0 \n",
    "\n",
    "    beats = []\n",
    "    \n",
    "    for i in range(len(beatsinframes)):\n",
    "        beat += tempovectinframes[i] # accumulate beatframe until reaching 1\n",
    "        if beat >= 1.0:\n",
    "            beats.append(tempovect[i])\n",
    "            print 'for bpm %r, create a beat at sample number %r' %(tempovect[i],hop_length*i)\n",
    "            beat = 0\n",
    "        \n",
    "    # return the sample numbers to place beat on top of\n",
    "    return beats\n",
    "    "
   ]
  },
  {
   "cell_type": "code",
   "execution_count": 16,
   "metadata": {
    "collapsed": false
   },
   "outputs": [
    {
     "ename": "NameError",
     "evalue": "name 'dtempo' is not defined",
     "output_type": "error",
     "traceback": [
      "\u001b[0;31m---------------------------------------------------------------------------\u001b[0m",
      "\u001b[0;31mNameError\u001b[0m                                 Traceback (most recent call last)",
      "\u001b[0;32m<ipython-input-16-55469582f0ca>\u001b[0m in \u001b[0;36m<module>\u001b[0;34m()\u001b[0m\n\u001b[0;32m----> 1\u001b[0;31m \u001b[0mdtempo\u001b[0m\u001b[0;34m\u001b[0m\u001b[0m\n\u001b[0m",
      "\u001b[0;31mNameError\u001b[0m: name 'dtempo' is not defined"
     ]
    }
   ],
   "source": [
    "dtempo"
   ]
  }
 ],
 "metadata": {
  "kernelspec": {
   "display_name": "Python [conda root]",
   "language": "python",
   "name": "conda-root-py"
  },
  "language_info": {
   "codemirror_mode": {
    "name": "ipython",
    "version": 2
   },
   "file_extension": ".py",
   "mimetype": "text/x-python",
   "name": "python",
   "nbconvert_exporter": "python",
   "pygments_lexer": "ipython2",
   "version": "2.7.13"
  }
 },
 "nbformat": 4,
 "nbformat_minor": 2
}
