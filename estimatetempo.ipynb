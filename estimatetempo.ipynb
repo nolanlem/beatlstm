{
 "cells": [
  {
   "cell_type": "code",
   "execution_count": 1,
   "metadata": {
    "collapsed": true
   },
   "outputs": [],
   "source": [
    "import librosa\n",
    "import numpy as np\n",
    "import matplotlib.pyplot as plt "
   ]
  },
  {
   "cell_type": "code",
   "execution_count": 27,
   "metadata": {
    "collapsed": false
   },
   "outputs": [
    {
     "name": "stdout",
     "output_type": "stream",
     "text": [
      "duration of './audio/nommoslice.wav' is 20 seconds\n"
     ]
    }
   ],
   "source": [
    "audiofi = './audio/nommoslice.wav'\n",
    "y, sr = librosa.load(audiofi)\n",
    "dur = len(y)/sr\n",
    "print 'duration of %r is %r seconds'%(audiofi, dur)\n",
    "tempo,beats = librosa.beat.beat_track(y=y,sr=sr) \n",
    "hop_length= 512"
   ]
  },
  {
   "cell_type": "code",
   "execution_count": 15,
   "metadata": {
    "collapsed": false
   },
   "outputs": [
    {
     "name": "stdout",
     "output_type": "stream",
     "text": [
      "67.9995888158\n",
      "[  6  41  79 117 155 192 233 271 310 349 398 441 484 521 557 592 631 666\n",
      " 702 739 775 813 852]\n"
     ]
    }
   ],
   "source": [
    "print tempo\n",
    "print beats"
   ]
  },
  {
   "cell_type": "code",
   "execution_count": 16,
   "metadata": {
    "collapsed": false
   },
   "outputs": [
    {
     "name": "stdout",
     "output_type": "stream",
     "text": [
      "[  3072  20992  40448  59904  79360  98304 119296 138752 158720 178688\n",
      " 203776 225792 247808 266752 285184 303104 323072 340992 359424 378368\n",
      " 396800 416256 436224]\n"
     ]
    }
   ],
   "source": [
    "beats_in_samp = beats*hop_length\n",
    "print beats_in_samp"
   ]
  },
  {
   "cell_type": "code",
   "execution_count": 17,
   "metadata": {
    "collapsed": false
   },
   "outputs": [
    {
     "data": {
      "image/png": "[encoded data removed]",
      "text/plain": [
       "<matplotlib.figure.Figure at 0x111de6250>"
      ]
     },
     "metadata": {},
     "output_type": "display_data"
    }
   ],
   "source": [
    "plt.figure() \n",
    "plt.subplot(2,1,1) \n",
    "plt.plot(y, linewidth='0.5') \n",
    "plt.vlines(beats_in_samp, 0, 1, color='r', alpha=0.8, linewidth='0.5')\n",
    "plt.xlabel('n') \n",
    "plt.ylabel('') \n",
    "\n",
    "plt.axis('tight') \n",
    "plt.tight_layout() \n",
    "\n",
    "\n",
    "plt.show() \n",
    "plt.close()"
   ]
  },
  {
   "cell_type": "code",
   "execution_count": 22,
   "metadata": {
    "collapsed": true
   },
   "outputs": [],
   "source": [
    "def overlaybeats(samplepath, framepattern, sourcepath, scaledamp=False):\n",
    "    #print framepattern\n",
    "    [ysamp, sr] = librosa.load(samplepath, offset=0,sr=44100)\n",
    "    [ysource, srsource] = librosa.load(sourcepath, offset=0, duration=dur,sr=44100) \n",
    "    print \"sr:%r, srsource:%r\"%(sr,srsource)\n",
    "    \n",
    "    if srsource != sr:\n",
    "        print 'sample rates of source and sample are not the same!'\n",
    "    \n",
    "    sampsz = len(ysamp)\n",
    "    print 'length of ysamp:', sampsz\n",
    "    sourcesz = len(ysource)\n",
    "    \n",
    "    window = np.array(ysource)\n",
    "    window = np.concatenate((window,np.zeros(sampsz)))\n",
    "    print 'window length,', len(window)\n",
    "    \n",
    "    print 'here'\n",
    "    for i,samp in enumerate(framepattern):\n",
    "        #print frame\n",
    "        print samp, samp + sampsz\n",
    "        #print onset_amps[frame]\n",
    "        #print window[frame:(frame+sampsz)]\n",
    "        \n",
    "        # scaled amps\n",
    "        #window[samp:(samp+sampsz)] = window[samp:(samp+sampsz)] + onset_amps[i]*ysamp\n",
    "        \n",
    "        window[samp:(samp+sampsz)] = window[samp:(samp+sampsz)] + ysamp\n",
    "\n",
    "\n",
    "        \n",
    "        #print (window[frame:(frame+sampsz)] + ysamp)\n",
    "      \n",
    "    return window"
   ]
  },
  {
   "cell_type": "code",
   "execution_count": 23,
   "metadata": {
    "collapsed": false
   },
   "outputs": [
    {
     "name": "stdout",
     "output_type": "stream",
     "text": [
      "sr:44100, srsource:44100\n",
      "length of ysamp: 19097\n",
      "window length, 901097\n",
      "here\n",
      "3072 22169\n",
      "20992 40089\n",
      "40448 59545\n",
      "59904 79001\n",
      "79360 98457\n",
      "98304 117401\n",
      "119296 138393\n",
      "138752 157849\n",
      "158720 177817\n",
      "178688 197785\n",
      "203776 222873\n",
      "225792 244889\n",
      "247808 266905\n",
      "266752 285849\n",
      "285184 304281\n",
      "303104 322201\n",
      "323072 342169\n",
      "340992 360089\n",
      "359424 378521\n",
      "378368 397465\n",
      "396800 415897\n",
      "416256 435353\n",
      "436224 455321\n"
     ]
    }
   ],
   "source": [
    "overlayedbeats = overlaybeats('./samples/woodblock_mono.wav', beats_in_samp,'./audio/nommoslice.wav')"
   ]
  },
  {
   "cell_type": "code",
   "execution_count": 25,
   "metadata": {
    "collapsed": false
   },
   "outputs": [],
   "source": [
    "librosa.output.write_wav('./beataudio/nommoslice_beattrack.wav', overlayedbeats, sr=sr)"
   ]
  },
  {
   "cell_type": "code",
   "execution_count": 28,
   "metadata": {
    "collapsed": true
   },
   "outputs": [],
   "source": [
    "!open -a Audacity ./beataudio/nommoslice_beattrack.wav "
   ]
  }
 ],
 "metadata": {
  "kernelspec": {
   "display_name": "Python [conda root]",
   "language": "python",
   "name": "conda-root-py"
  },
  "language_info": {
   "codemirror_mode": {
    "name": "ipython",
    "version": 2
   },
   "file_extension": ".py",
   "mimetype": "text/x-python",
   "name": "python",
   "nbconvert_exporter": "python",
   "pygments_lexer": "ipython2",
   "version": "2.7.13"
  }
 },
 "nbformat": 4,
 "nbformat_minor": 2
}
